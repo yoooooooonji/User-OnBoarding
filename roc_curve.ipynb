{
 "cells": [
  {
   "cell_type": "code",
   "execution_count": 3,
   "metadata": {},
   "outputs": [
    {
     "name": "stdout",
     "output_type": "stream",
     "text": [
      "/Users/yj.noh/Documents/GitHub\n"
     ]
    }
   ],
   "source": [
    "import pandas as pd\n",
    "import numpy as np\n",
    "import random \n",
    "import os\n",
    "\n",
    "import matplotlib.pyplot as plt\n",
    "import statsmodels.api as sm\n",
    "from datetime import datetime\n",
    "import seaborn as sns\n",
    "from sklearn.preprocessing import OneHotEncoder\n",
    "from sklearn.preprocessing import StandardScaler\n",
    "from sklearn.preprocessing import MinMaxScaler\n",
    "from sklearn.linear_model import LogisticRegression\n",
    "from sklearn.model_selection import train_test_split, cross_val_score\n",
    "from sklearn.metrics import log_loss, roc_curve, recall_score, precision_score, average_precision_score, f1_score, classification_report, accuracy_score,confusion_matrix, silhouette_score\n",
    "from statsmodels.stats.outliers_influence import variance_inflation_factor\n",
    "from sklearn.model_selection import GridSearchCV, cross_val_predict, train_test_split\n",
    "\n",
    "import warnings\n",
    "warnings.filterwarnings(\"ignore\")\n",
    "os.chdir(\"/Users/yj.noh/Documents/GitHub\")\n",
    "print(os.getcwd())"
   ]
  },
  {
   "cell_type": "code",
   "execution_count": 5,
   "metadata": {},
   "outputs": [
    {
     "name": "stdout",
     "output_type": "stream",
     "text": [
      "                                       brms_rider_id  birth   delivery_method  \\\n",
      "0  7101DD2151A87A1BAAF00E96C2D74E05B86AC93F08AF7D...   1990      PAS_BICYCLES   \n",
      "1  694AB03F4E692FFE0D11C50E09476161E1FAEB4C536BAE...   2000              WALK   \n",
      "2  43BD4ABFA03CD6D25E3BE37CA98B1AFD1230F8DAB98E2A...   1970              BIKE   \n",
      "3  CA68B1C8EB5B085F45A2093B1EAECB2BA7E8C73E729751...   1990               CAR   \n",
      "4  5E41585113439D659B4D2A9B53CB75490C8CB8151B1F1E...   1980  GENERAL_BICYCLES   \n",
      "\n",
      "  first_available_date business_start_day  is_recom gender  day_cnt  \\\n",
      "0           2023-07-22         2023-09-20         0    MAN      1.0   \n",
      "1           2023-01-04         2023-01-05         1    MAN      3.0   \n",
      "2           2023-01-09         2023-01-09         0    MAN      4.0   \n",
      "3           2023-01-04                NaN         0    MAN      NaN   \n",
      "4           2023-01-04         2023-01-04         1  WOMAN      1.0   \n",
      "\n",
      "     avg_cnt last_working_day  outcome  \n",
      "0   7.000000       2023-09-20        1  \n",
      "1   5.333333       2023-01-07        1  \n",
      "2  10.000000       2023-10-21        0  \n",
      "3        NaN              NaN        0  \n",
      "4   1.000000       2023-01-04        1  \n",
      "brms_rider_id               0\n",
      "birth                       0\n",
      "delivery_method             0\n",
      "first_available_date    10152\n",
      "business_start_day      45689\n",
      "is_recom                    0\n",
      "gender                      0\n",
      "day_cnt                 45817\n",
      "avg_cnt                 45817\n",
      "last_working_day        45772\n",
      "outcome                     0\n",
      "dtype: int64\n"
     ]
    }
   ],
   "source": [
    "data = pd.read_csv(\"/Users/yj.noh/Desktop/on_boarding_data.csv\", encoding = \"cp949\")\n",
    "print(data.head())\n",
    "print(data.isna().sum())"
   ]
  },
  {
   "cell_type": "code",
   "execution_count": 6,
   "metadata": {},
   "outputs": [
    {
     "name": "stdout",
     "output_type": "stream",
     "text": [
      "brms_rider_id           0\n",
      "birth                   0\n",
      "delivery_method         0\n",
      "first_available_date    0\n",
      "business_start_day      0\n",
      "is_recom                0\n",
      "gender                  0\n",
      "day_cnt                 0\n",
      "avg_cnt                 0\n",
      "last_working_day        0\n",
      "outcome                 0\n",
      "dtype: int64\n"
     ]
    }
   ],
   "source": [
    "data_filter = data[data['day_cnt'].notnull()]\n",
    "print(data_filter.isna().sum())"
   ]
  },
  {
   "cell_type": "code",
   "execution_count": 7,
   "metadata": {},
   "outputs": [
    {
     "name": "stdout",
     "output_type": "stream",
     "text": [
      "outcome\n",
      "1    30796\n",
      "0    21510\n",
      "Name: count, dtype: int64\n"
     ]
    }
   ],
   "source": [
    "print(data_filter['outcome'].value_counts()) #0 : 30796, 1 : 21510 "
   ]
  },
  {
   "cell_type": "code",
   "execution_count": 11,
   "metadata": {},
   "outputs": [
    {
     "ename": "NotFittedError",
     "evalue": "This LogisticRegression instance is not fitted yet. Call 'fit' with appropriate arguments before using this estimator.",
     "output_type": "error",
     "traceback": [
      "\u001b[0;31m---------------------------------------------------------------------------\u001b[0m",
      "\u001b[0;31mNotFittedError\u001b[0m                            Traceback (most recent call last)",
      "Cell \u001b[0;32mIn[11], line 5\u001b[0m\n\u001b[1;32m      2\u001b[0m y_train \u001b[39m=\u001b[39m data_filter[\u001b[39m'\u001b[39m\u001b[39moutcome\u001b[39m\u001b[39m'\u001b[39m]\n\u001b[1;32m      4\u001b[0m model \u001b[39m=\u001b[39m LogisticRegression()\n\u001b[0;32m----> 5\u001b[0m y_scores \u001b[39m=\u001b[39m model\u001b[39m.\u001b[39;49mpredict_proba(X_train)[:, \u001b[39m1\u001b[39m]\n\u001b[1;32m      6\u001b[0m fpr, tpr, thresholds \u001b[39m=\u001b[39m roc_curve(y_train, y_scores)\n\u001b[1;32m      8\u001b[0m optimal_idx \u001b[39m=\u001b[39m np\u001b[39m.\u001b[39margmax(tpr \u001b[39m-\u001b[39m fpr)\n",
      "File \u001b[0;32m~/Documents/GitHub/.venv/lib/python3.9/site-packages/sklearn/linear_model/_logistic.py:1373\u001b[0m, in \u001b[0;36mLogisticRegression.predict_proba\u001b[0;34m(self, X)\u001b[0m\n\u001b[1;32m   1347\u001b[0m \u001b[39mdef\u001b[39;00m \u001b[39mpredict_proba\u001b[39m(\u001b[39mself\u001b[39m, X):\n\u001b[1;32m   1348\u001b[0m \u001b[39m    \u001b[39m\u001b[39m\"\"\"\u001b[39;00m\n\u001b[1;32m   1349\u001b[0m \u001b[39m    Probability estimates.\u001b[39;00m\n\u001b[1;32m   1350\u001b[0m \n\u001b[0;32m   (...)\u001b[0m\n\u001b[1;32m   1371\u001b[0m \u001b[39m        where classes are ordered as they are in ``self.classes_``.\u001b[39;00m\n\u001b[1;32m   1372\u001b[0m \u001b[39m    \"\"\"\u001b[39;00m\n\u001b[0;32m-> 1373\u001b[0m     check_is_fitted(\u001b[39mself\u001b[39;49m)\n\u001b[1;32m   1375\u001b[0m     ovr \u001b[39m=\u001b[39m \u001b[39mself\u001b[39m\u001b[39m.\u001b[39mmulti_class \u001b[39min\u001b[39;00m [\u001b[39m\"\u001b[39m\u001b[39movr\u001b[39m\u001b[39m\"\u001b[39m, \u001b[39m\"\u001b[39m\u001b[39mwarn\u001b[39m\u001b[39m\"\u001b[39m] \u001b[39mor\u001b[39;00m (\n\u001b[1;32m   1376\u001b[0m         \u001b[39mself\u001b[39m\u001b[39m.\u001b[39mmulti_class \u001b[39m==\u001b[39m \u001b[39m\"\u001b[39m\u001b[39mauto\u001b[39m\u001b[39m\"\u001b[39m\n\u001b[1;32m   1377\u001b[0m         \u001b[39mand\u001b[39;00m (\n\u001b[0;32m   (...)\u001b[0m\n\u001b[1;32m   1380\u001b[0m         )\n\u001b[1;32m   1381\u001b[0m     )\n\u001b[1;32m   1382\u001b[0m     \u001b[39mif\u001b[39;00m ovr:\n",
      "File \u001b[0;32m~/Documents/GitHub/.venv/lib/python3.9/site-packages/sklearn/utils/validation.py:1462\u001b[0m, in \u001b[0;36mcheck_is_fitted\u001b[0;34m(estimator, attributes, msg, all_or_any)\u001b[0m\n\u001b[1;32m   1459\u001b[0m     \u001b[39mraise\u001b[39;00m \u001b[39mTypeError\u001b[39;00m(\u001b[39m\"\u001b[39m\u001b[39m%s\u001b[39;00m\u001b[39m is not an estimator instance.\u001b[39m\u001b[39m\"\u001b[39m \u001b[39m%\u001b[39m (estimator))\n\u001b[1;32m   1461\u001b[0m \u001b[39mif\u001b[39;00m \u001b[39mnot\u001b[39;00m _is_fitted(estimator, attributes, all_or_any):\n\u001b[0;32m-> 1462\u001b[0m     \u001b[39mraise\u001b[39;00m NotFittedError(msg \u001b[39m%\u001b[39m {\u001b[39m\"\u001b[39m\u001b[39mname\u001b[39m\u001b[39m\"\u001b[39m: \u001b[39mtype\u001b[39m(estimator)\u001b[39m.\u001b[39m\u001b[39m__name__\u001b[39m})\n",
      "\u001b[0;31mNotFittedError\u001b[0m: This LogisticRegression instance is not fitted yet. Call 'fit' with appropriate arguments before using this estimator."
     ]
    }
   ],
   "source": [
    "X_train = data_filter[['avg_cnt', 'day_cnt']]\n",
    "y_train = data_filter['outcome']\n",
    "\n",
    "t(y_test, y_prob_pred, target_names=['normal', 'abnormal']))\n",
    "\n",
    "model = LogisticRegression()\n",
    "y_prob = model.predict()\n",
    "y_scores = model.predict_proba(X_train)[:, 1]\n",
    "fpr, tpr, thresholds = roc_curve(y_train, y_scores)\n",
    "\n",
    "optimal_idx = np.argmax(tpr - fpr)\n",
    "optimal_threshold = thresholds[optimal_idx]\n",
    "optimal_X1_value = X_train[optimal_idx, 0]\n",
    "optimal_X2_value = X_train[optimal_idx, 1]\n",
    "print(\"최적의 threshold 값:\", optimal_threshold)\n",
    "print(\"입력 변수 1의 값:\", optimal_X1_value)\n",
    "print(\"입력 변수 2의 값:\", optimal_X2_value)\n",
    "\n"
   ]
  }
 ],
 "metadata": {
  "kernelspec": {
   "display_name": ".venv",
   "language": "python",
   "name": "python3"
  },
  "language_info": {
   "codemirror_mode": {
    "name": "ipython",
    "version": 3
   },
   "file_extension": ".py",
   "mimetype": "text/x-python",
   "name": "python",
   "nbconvert_exporter": "python",
   "pygments_lexer": "ipython3",
   "version": "3.9.6"
  },
  "orig_nbformat": 4
 },
 "nbformat": 4,
 "nbformat_minor": 2
}
