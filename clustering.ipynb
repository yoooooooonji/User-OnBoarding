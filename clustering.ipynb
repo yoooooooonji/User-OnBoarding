{
 "cells": [
  {
   "cell_type": "code",
   "execution_count": 1,
   "metadata": {},
   "outputs": [
    {
     "name": "stdout",
     "output_type": "stream",
     "text": [
      "/Users/yj.noh/Documents/GitHub\n"
     ]
    }
   ],
   "source": [
    "import pandas as pd\n",
    "import numpy as np\n",
    "import os\n",
    "\n",
    "import matplotlib.pyplot as plt\n",
    "import statsmodels.api as sm\n",
    "import seaborn as sns\n",
    "\n",
    "from sklearn.model_selection import train_test_split, cross_val_score\n",
    "from sklearn.metrics import log_loss, roc_curve, auc, RocCurveDisplay,  silhouette_score, classification_report, accuracy_score,confusion_matrix\n",
    "from sklearn.model_selection import GridSearchCV, cross_val_predict, train_test_split\n",
    "from sklearn.linear_model import LogisticRegression\n",
    "from statsmodels.genmod.generalized_linear_model import GLM\n",
    "from statsmodels.genmod.families import Binomial\n",
    "from statsmodels.genmod.families.links import logit\n",
    "\n",
    "from sklearn.cluster import KMeans\n",
    "\n",
    "from mpl_toolkits.mplot3d import Axes3D\n",
    "\n",
    "import warnings\n",
    "warnings.filterwarnings(\"ignore\")\n",
    "os.chdir(\"/Users/yj.noh/Documents/GitHub\")\n",
    "print(os.getcwd())\n",
    "plt.rcParams['font.family'] = 'AppleGothic'"
   ]
  },
  {
   "attachments": {},
   "cell_type": "markdown",
   "metadata": {},
   "source": [
    "## 1. data load"
   ]
  },
  {
   "cell_type": "code",
   "execution_count": 2,
   "metadata": {},
   "outputs": [
    {
     "name": "stdout",
     "output_type": "stream",
     "text": [
      "                                       brms_rider_id  birth delivery_method  \\\n",
      "0  44F0CF64B5DD45DFC1DFBBB1A0B81B657378189602F671...   1980    PAS_BICYCLES   \n",
      "1  D1F1A31D2756936307990C37B252CAA084692082D8C919...   1990            BIKE   \n",
      "\n",
      "           insurance_type first_available_date business_start_day  is_recom  \\\n",
      "0           ETC_ON_DEMAND           2023-08-15         2023-08-20         1   \n",
      "1  BIKE_ON_DEMAND_HYUNDAI           2021-03-03         2023-08-02         0   \n",
      "\n",
      "  gender  day_cnt    avg_cnt last_working_day  outcome  \n",
      "0    MAN        5   4.400000       2023-08-27        1  \n",
      "1    MAN        3  12.333333       2023-10-03        0  \n",
      "brms_rider_id           0\n",
      "birth                   0\n",
      "delivery_method         0\n",
      "insurance_type          0\n",
      "first_available_date    0\n",
      "business_start_day      0\n",
      "is_recom                0\n",
      "gender                  0\n",
      "day_cnt                 0\n",
      "avg_cnt                 0\n",
      "last_working_day        0\n",
      "outcome                 0\n",
      "dtype: int64\n"
     ]
    }
   ],
   "source": [
    "df = pd.read_csv(\"/Users/yj.noh/Desktop/on_boarding_data.csv\", encoding = \"cp949\")\n",
    "print(df.head(2))\n",
    "print(df.isna().sum())"
   ]
  },
  {
   "cell_type": "code",
   "execution_count": 3,
   "metadata": {},
   "outputs": [
    {
     "name": "stdout",
     "output_type": "stream",
     "text": [
      "brms_rider_id           0\n",
      "birth                   0\n",
      "delivery_method         0\n",
      "insurance_type          0\n",
      "first_available_date    0\n",
      "business_start_day      0\n",
      "is_recom                0\n",
      "gender                  0\n",
      "day_cnt                 0\n",
      "avg_cnt                 0\n",
      "last_working_day        0\n",
      "outcome                 0\n",
      "dtype: int64\n",
      "(3423, 12)\n"
     ]
    }
   ],
   "source": [
    "#data_filter = df[((df['day_cnt'].notnull()) & (df['delivery_method'] == 'BIKE') & (df['is_recom'] == 0))]\n",
    "data_filter = df[((df['day_cnt'].notnull()) & (df['delivery_method'] == 'BIKE'))]\n",
    "#data_filter =  df[df['day_cnt'].notnull()]   \n",
    "\n",
    "print(data_filter.isna().sum())\n",
    "print(data_filter.shape) # 3,423"
   ]
  },
  {
   "cell_type": "code",
   "execution_count": 4,
   "metadata": {},
   "outputs": [
    {
     "name": "stdout",
     "output_type": "stream",
     "text": [
      "outcome\n",
      "0    2255\n",
      "1    1168\n",
      "Name: count, dtype: int64\n"
     ]
    }
   ],
   "source": [
    "print(data_filter['outcome'].value_counts()) "
   ]
  },
  {
   "cell_type": "code",
   "execution_count": 9,
   "metadata": {},
   "outputs": [
    {
     "name": "stdout",
     "output_type": "stream",
     "text": [
      "<class 'pandas.core.frame.DataFrame'>\n",
      "Index: 3423 entries, 1 to 7947\n",
      "Data columns (total 12 columns):\n",
      " #   Column                Non-Null Count  Dtype  \n",
      "---  ------                --------------  -----  \n",
      " 0   brms_rider_id         3423 non-null   object \n",
      " 1   birth                 3423 non-null   int64  \n",
      " 2   delivery_method       3423 non-null   object \n",
      " 3   insurance_type        3423 non-null   object \n",
      " 4   first_available_date  3423 non-null   object \n",
      " 5   business_start_day    3423 non-null   object \n",
      " 6   is_recom              3423 non-null   int64  \n",
      " 7   gender                3423 non-null   object \n",
      " 8   day_cnt               3423 non-null   int64  \n",
      " 9   avg_cnt               3423 non-null   float64\n",
      " 10  last_working_day      3423 non-null   object \n",
      " 11  outcome               3423 non-null   int64  \n",
      "dtypes: float64(1), int64(4), object(7)\n",
      "memory usage: 347.6+ KB\n",
      "None\n"
     ]
    }
   ],
   "source": [
    "print(data_filter.info())"
   ]
  },
  {
   "attachments": {},
   "cell_type": "markdown",
   "metadata": {},
   "source": [
    "# 2. clustering"
   ]
  },
  {
   "cell_type": "code",
   "execution_count": null,
   "metadata": {},
   "outputs": [],
   "source": []
  },
  {
   "cell_type": "code",
   "execution_count": null,
   "metadata": {},
   "outputs": [],
   "source": []
  },
  {
   "cell_type": "code",
   "execution_count": null,
   "metadata": {},
   "outputs": [],
   "source": []
  },
  {
   "cell_type": "code",
   "execution_count": null,
   "metadata": {},
   "outputs": [],
   "source": []
  },
  {
   "cell_type": "code",
   "execution_count": null,
   "metadata": {},
   "outputs": [],
   "source": []
  },
  {
   "cell_type": "code",
   "execution_count": null,
   "metadata": {},
   "outputs": [],
   "source": []
  }
 ],
 "metadata": {
  "kernelspec": {
   "display_name": ".venv",
   "language": "python",
   "name": "python3"
  },
  "language_info": {
   "codemirror_mode": {
    "name": "ipython",
    "version": 3
   },
   "file_extension": ".py",
   "mimetype": "text/x-python",
   "name": "python",
   "nbconvert_exporter": "python",
   "pygments_lexer": "ipython3",
   "version": "3.9.6"
  },
  "orig_nbformat": 4
 },
 "nbformat": 4,
 "nbformat_minor": 2
}
